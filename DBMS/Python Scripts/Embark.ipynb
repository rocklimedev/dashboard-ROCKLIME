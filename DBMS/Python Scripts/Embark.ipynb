{
 "cells": [
  {
   "cell_type": "code",
   "execution_count": 2,
   "id": "d58c54ff-acc2-4032-b368-58a688910b9a",
   "metadata": {},
   "outputs": [],
   "source": [
    "#importing necessary libraries\n",
    "import pdfplumber\n",
    "import openpyxl"
   ]
  },
  {
   "cell_type": "code",
   "execution_count": 10,
   "id": "cfb1dfbd-62e5-4e4a-8ec7-f08cdfc0c4e4",
   "metadata": {},
   "outputs": [],
   "source": [
    "# Create a new Excel workbook and sheet\n",
    "workbook = openpyxl.Workbook()\n",
    "sheet = workbook.active\n",
    "sheet.title = \"Product Data\"\n",
    "sheet.append([\"Product_ID\", \"ProductName\", \"Category\", \"Type\"])\n"
   ]
  },
  {
   "cell_type": "code",
   "execution_count": null,
   "id": "252ea728-6774-440c-bea6-e685ad563cd7",
   "metadata": {},
   "outputs": [],
   "source": [
    "# Define keywords for categorization\n",
    "ceramics_keywords = ['basin', 'toilet', 'bidet', 'counter', 'vessel', 'seat', 'cover','wc back to wall','wc wall-hung','wc one-piece','wc close-coupled','wb wall-hung','urinal Floor standing','urinal wall-hung','Pedistal','Semi-Pedestal']\n",
    "fittings_keywords = ['shower', 'faucet', 'mixer', 'bath', 'spout', 'spray']\n"
   ]
  },
  {
   "cell_type": "code",
   "execution_count": 33,
   "id": "ef12407f-1d57-4f9c-9278-7ead4fa802d7",
   "metadata": {},
   "outputs": [],
   "source": [
    "# Function to categorize products based on description or group\n",
    "def categorize_product(description, group):\n",
    "    description_lower = description.lower()\n",
    "    group_lower = group.lower()\n",
    "\n",
    "    # Check for ceramics-related keywords\n",
    "    if any(keyword in description_lower or keyword in group_lower for keyword in ceramics_keywords):\n",
    "        return \"Ceramics\"\n",
    "    \n",
    "    # Check for sanitary-related keywords\n",
    "    if any(keyword in description_lower or keyword in group_lower for keyword in sanitary_keywords):\n",
    "        return \"Sanitary\"\n",
    "    \n",
    "    # Default category if not matched\n",
    "    return \"Unknown\"\n"
   ]
  },
  {
   "cell_type": "code",
   "execution_count": 35,
   "id": "b2f81cad-e139-4fdd-a8dc-675d47c25514",
   "metadata": {},
   "outputs": [
    {
     "name": "stdout",
     "output_type": "stream",
     "text": [
      "Data extracted from both catalogs and saved to C:/Users/creat/OneDrive/DBMS/Python Scripts/Product.xlsx\n"
     ]
    }
   ],
   "source": [
    "# Function to process a single PDF file and extract product data\n",
    "def extract_data_from_pdf(pdf_path):\n",
    "    with pdfplumber.open(pdf_path) as pdf:\n",
    "        for page_num, page in enumerate(pdf.pages):\n",
    "            text = page.extract_text()\n",
    "            \n",
    "            # Variables to hold data\n",
    "            product_id = None\n",
    "            product_name = None\n",
    "            category = None\n",
    "\n",
    "            for line in text.split('\\n'):\n",
    "                if 'LISA Product Code' in line:\n",
    "                    product_id = line.split(':')[-1].strip()\n",
    "                if 'Product Description' in line:\n",
    "                    product_name = line.split(':')[-1].strip()\n",
    "                if 'Product Group' in line:\n",
    "                    category = line.split(':')[-1].strip()\n",
    "\n",
    "                    # Categorize the product based on description and group\n",
    "                    product_type = categorize_product(product_name, category)\n",
    "\n",
    "                    # Once all three fields are found, save the data with category\n",
    "                    if product_id and product_name and category:\n",
    "                        sheet.append([product_id, product_name, category, product_type])\n",
    "                        # Reset variables for the next product\n",
    "                        product_id, product_name, category = None, None, None\n",
    "                        \n",
    "# Paths to both PDF files\n",
    "pdf_path1 = \"C:/Users/creat/OneDrive/Chhabra marble 2.0/2023/American Standard/AS Pricing Catalogue_June 2023.pdf\"\n",
    "\n",
    "# Extract data from both catalogs\n",
    "extract_data_from_pdf(pdf_path1)\n",
    "\n",
    "\n",
    "# Save the combined data into one Excel file\n",
    "output_excel_path = \"C:/Users/creat/OneDrive/DBMS/Python Scripts/Product.xlsx\"\n",
    "workbook.save(output_excel_path)\n",
    "\n",
    "print(f\"Data extracted from both catalogs and saved to {output_excel_path}\")"
   ]
  },
  {
   "cell_type": "code",
   "execution_count": null,
   "id": "e769b3a5-fcff-425f-bf86-d035bd515a35",
   "metadata": {},
   "outputs": [],
   "source": []
  }
 ],
 "metadata": {
  "kernelspec": {
   "display_name": "Python 3 (ipykernel)",
   "language": "python",
   "name": "python3"
  },
  "language_info": {
   "codemirror_mode": {
    "name": "ipython",
    "version": 3
   },
   "file_extension": ".py",
   "mimetype": "text/x-python",
   "name": "python",
   "nbconvert_exporter": "python",
   "pygments_lexer": "ipython3",
   "version": "3.12.6"
  }
 },
 "nbformat": 4,
 "nbformat_minor": 5
}
